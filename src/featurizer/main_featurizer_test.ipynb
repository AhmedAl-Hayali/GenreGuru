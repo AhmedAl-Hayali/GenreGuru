{
 "cells": [
  {
   "cell_type": "code",
   "execution_count": null,
   "metadata": {},
   "outputs": [],
   "source": [
    "#imports\n",
    "import tomllib\n",
    "import numpy as np\n",
    "from pprint import pprint\n",
    "import librosa\n",
    "import requests\n",
    "from pydub import AudioSegment\n",
    "from io import BytesIO\n",
    "import spotipy\n",
    "from spotipy.oauth2 import SpotifyClientCredentials"
   ]
  },
  {
   "cell_type": "code",
   "execution_count": null,
   "metadata": {},
   "outputs": [],
   "source": [
    "with open(\"cfg.toml\", \"rb\") as cfg:\n",
    "    keys = tomllib.load(cfg)[\"spotify\"]\n",
    "    c_id = keys[\"client_id\"]\n",
    "    c_secret = keys[\"client_secret\"]\n",
    "    auth_manager = SpotifyClientCredentials(client_id=c_id, client_secret=c_secret)\n",
    "    \n",
    "sp = spotipy.Spotify(auth_manager=auth_manager)"
   ]
  },
  {
   "cell_type": "code",
   "execution_count": null,
   "metadata": {},
   "outputs": [],
   "source": [
    "#taken from matthew baleanu and Mohamad-Hassan Bahsoun\n",
    "#16khz downsample (default 22khz, spotify audio is 44k.)\n",
    "#main audio loading\n",
    "def downsampleAudio(audio_file_path, target_sample_rate=16000):\n",
    "    #load the audio and downsample it. \n",
    "    signal, sampling_rate = librosa.load(audio_file_path, sr=target_sample_rate, mono=True)\n",
    "    #normalize amplitude of the audio signal\n",
    "    signal = signal / np.max(np.abs(signal))\n",
    "    return signal, sampling_rate\n",
    "\n",
    "#STFT the signal\n",
    "def processAudio(audio_file_path):\n",
    "    signal, sampling_rate = downsampleAudio(audio_file_path)\n",
    "\n",
    "    #stft signal for feature computation\n",
    "    stft_signal = librosa.stft(signal)\n",
    "    return signal, stft_signal"
   ]
  },
  {
   "cell_type": "code",
   "execution_count": null,
   "metadata": {},
   "outputs": [],
   "source": [
    "def computeRMS(signal):\n",
    "    pass\n",
    "    #return rms\n",
    "\n",
    "def computeDynamicRange(signal):\n",
    "    pass\n",
    "    #return dynamic_range\n",
    "\n",
    "def computeBPM(signal):\n",
    "    pass\n",
    "    #return bpm"
   ]
  }
 ],
 "metadata": {
  "kernelspec": {
   "display_name": "Python 3",
   "language": "python",
   "name": "python3"
  },
  "language_info": {
   "name": "python",
   "version": "3.12.7"
  }
 },
 "nbformat": 4,
 "nbformat_minor": 2
}
