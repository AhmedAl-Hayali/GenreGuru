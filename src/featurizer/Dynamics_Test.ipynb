{
 "cells": [
  {
   "cell_type": "code",
   "execution_count": 7,
   "metadata": {},
   "outputs": [],
   "source": [
    "import tomllib\n",
    "import numpy as np\n",
    "from pprint import pprint\n",
    "import librosa\n",
    "import requests\n",
    "from pydub import AudioSegment\n",
    "from io import BytesIO\n",
    "# from SpotifyTrack import SpotifyTrack\n",
    "# from poc_test import estimate_tempo\n",
    "import pandas as pd\n",
    "import spotipy\n",
    "from spotipy.oauth2 import SpotifyClientCredentials\n",
    "import scipy\n",
    "import scipy.stats\n",
    "import matplotlib.pyplot as plt\n",
    "\n",
    "\n",
    "with open(\"cfg.toml\", \"rb\") as cfg:\n",
    "    keys = tomllib.load(cfg)[\"spotify\"]\n",
    "    c_id = keys[\"client_id\"]\n",
    "    c_secret = keys[\"client_secret\"]\n",
    "    auth_manager = SpotifyClientCredentials(client_id=c_id, client_secret=c_secret)\n",
    "    \n",
    "sp = spotipy.Spotify(auth_manager=auth_manager)"
   ]
  },
  {
   "cell_type": "code",
   "execution_count": 8,
   "metadata": {},
   "outputs": [],
   "source": [
    "def computeDynamicRange(audio_file_path):\n",
    "    # Load the audio file\n",
    "    signal, sr = librosa.load(audio_file_path, sr=None)  # y: waveform, sr: sampling rate\n",
    "    \n",
    "    #We need to get the max, and min non-zero of the signal. \n",
    "    max_level = np.max(np.abs(signal))\n",
    "    min_level = np.min(np.abs(signal[np.nonzero(signal)]))\n",
    "    \n",
    "    #mathematical formulation from: https://en.wikipedia.org/wiki/Dynamic_range#Music\n",
    "    #convert to decibels\n",
    "    dynamic_range = 20 * np.log10(max_level/min_level)\n",
    "    return dynamic_range"
   ]
  },
  {
   "cell_type": "code",
   "execution_count": 14,
   "metadata": {},
   "outputs": [
    {
     "name": "stdout",
     "output_type": "stream",
     "text": [
      "236.04073\n"
     ]
    }
   ],
   "source": [
    "input = \"../audio/Ma Meilleure Ennemie.mp3\"\n",
    "out = computeDynamicRange(input)\n",
    "print(out)\n"
   ]
  }
 ],
 "metadata": {
  "kernelspec": {
   "display_name": "Python 3",
   "language": "python",
   "name": "python3"
  },
  "language_info": {
   "codemirror_mode": {
    "name": "ipython",
    "version": 3
   },
   "file_extension": ".py",
   "mimetype": "text/x-python",
   "name": "python",
   "nbconvert_exporter": "python",
   "pygments_lexer": "ipython3",
   "version": "3.12.7"
  }
 },
 "nbformat": 4,
 "nbformat_minor": 2
}
