{
 "cells": [
  {
   "cell_type": "code",
   "execution_count": 3,
   "metadata": {},
   "outputs": [],
   "source": [
    "import spotipy\n",
    "import tomllib\n",
    "import os\n",
    "from spotipy.oauth2 import SpotifyClientCredentials\n",
    "import json\n",
    "import numpy as np\n",
    "import librosa\n",
    "from pydub import AudioSegment\n",
    "import scipy\n",
    "import scipy.stats\n",
    "\n",
    "with open(\"cfg.toml\", \"rb\") as cfg:\n",
    "    keys = tomllib.load(cfg)[\"spotify\"]\n",
    "    c_id = keys[\"client_id\"]\n",
    "    c_secret = keys[\"client_secret\"]\n",
    "    auth_manager = SpotifyClientCredentials(client_id=c_id, client_secret=c_secret)\n",
    "    \n",
    "sp = spotipy.Spotify(auth_manager=auth_manager)"
   ]
  },
  {
   "cell_type": "code",
   "execution_count": null,
   "metadata": {},
   "outputs": [],
   "source": [
    "#Spotify API info fetching\n",
    "\n",
    "def get_song_name(track_id):\n",
    "    #fetch ALL INFO. \n",
    "    info = sp.track(track_id)\n",
    "    return info[\"name\"]\n",
    "\n",
    "def get_song_tempo(track_id):\n",
    "    # Fetch audio features for the given track\n",
    "    features = sp.audio_features(track_id)\n",
    "    print(f\"Song Track ID: {track_id}\"); print(f\"Song Name: {get_song_name(track_id)}\")\n",
    "    # print(f\"ALL F EATURES: {features}\")\n",
    "    if features and features[0]: return features[0].get(\"tempo\", \"Tempo not found\")\n",
    "    return 'Invalid track ID or no features available'\n",
    "\n",
    "def get_track_id(song_name):\n",
    "    r = sp.search(q = song_name, type = \"track\", limit = 1)\n",
    "    track = r.get(\"tracks\", {}).get(\"items\", [])\n",
    "    if track: return track[0]['id']\n",
    "    return f\"Did not find {song_name}\""
   ]
  },
  {
   "cell_type": "code",
   "execution_count": null,
   "metadata": {},
   "outputs": [],
   "source": [
    "#helper conversion function\n",
    "def mp3_to_wav(mp3_path, wav_path):\n",
    "    \"\"\"Convert an MP3 file to WAV using pydub.\"\"\"\n",
    "    audio = AudioSegment.from_mp3(mp3_path)\n",
    "    audio.export(wav_path, format=\"wav\")"
   ]
  },
  {
   "cell_type": "code",
   "execution_count": 45,
   "metadata": {},
   "outputs": [
    {
     "name": "stdout",
     "output_type": "stream",
     "text": [
      "ESTIMATED GLOBAL TEMPO BY LIBROSA: 140.625 BPM\n",
      "BPM computed from median of beats: 140.49201757801637 BPM\n"
     ]
    }
   ],
   "source": [
    "def method1(audio_file_path):\n",
    "    wav_path = \"temp_audio.wav\"\n",
    "    mp3_to_wav(audio_file_path, wav_path)\n",
    "    y, sr = librosa.load(wav_path, sr=None, mono=True)\n",
    "    tempo, beats = librosa.beat.beat_track(y=y, sr=sr)\n",
    "    #print(beats)\n",
    "    print(f\"ESTIMATED GLOBAL TEMPO BY LIBROSA: {tempo[0]} BPM\" )\n",
    "\n",
    "    first_beat_time, last_beat_time = librosa.frames_to_time((beats[0],beats[-1]),sr=sr)\n",
    "    tempo2 = 60/((last_beat_time-first_beat_time)/(len(beats)-1))\n",
    "\n",
    "    print(f\"BPM computed from median of beats: {tempo2} BPM\")\n",
    "    # print('Estimated tempo: {:.2f} beats per minute'.format(tempo))\n",
    "    # beat_times = librosa.frames_to_time(beat_frames, sr=sr)\n",
    "\n",
    "def method2(audio_file_path):\n",
    "    wav_path = \"temp_audio.wav\"\n",
    "    mp3_to_wav(audio_file_path, wav_path)\n",
    "    y, sr = librosa.load(wav_path, sr=None, mono=True)\n",
    "    onset_env = librosa.onset.onset_strength(y=y, sr=sr)\n",
    "    tempo = librosa.beat.tempo(onset_envelope=onset_env, sr=sr)\n",
    "    print(f\"ESTIMATE TEMPO BY Librosa.beat.tempo(): {tempo}\")\n",
    "\n",
    "method1(\"mp3s/505_artic.mp3\")\n",
    "#method2(\"mp3s/isha_eason_chan.mp3\")\n"
   ]
  },
  {
   "cell_type": "code",
   "execution_count": null,
   "metadata": {},
   "outputs": [
    {
     "name": "stdout",
     "output_type": "stream",
     "text": [
      "Dynamic Programming BPM method computed: 142.51893939393938\n"
     ]
    }
   ],
   "source": [
    "#dynamic programing solution for beat tracking reverse engineering\n",
    "#dynamic programming implementation of beat tracking - converted and adapted code from \n",
    "# https://www.tandfonline.com/doi/epdf/10.1080/09298210701653344?needAccess=true, librosa documentation. \n",
    "\n",
    "def compute_localscore(onset_envelope, period):\n",
    "    window = np.exp(-0.5 *(np.arange(-period, period+1) * 32/period)**2)\n",
    "    #I LOVE CONVOLUTION\n",
    "    normalized_onset = onset_envelope/onset_envelope.std(ddof = 1)\n",
    "    return scipy.signal.convolve(normalized_onset, window, \"same\")\n",
    "\n",
    "def dynamic_compute(local_score, period, tightness):\n",
    "    #initiate dp arrays with zeroes\n",
    "    backlink = np.zeros_like(local_score, dtype = int)\n",
    "    cumulative_score = np.zeros_like(local_score)\n",
    "\n",
    "    #define search range. Will be iteratively increased \n",
    "    window = np.arange(-2*period, -np.round(period/2)+1, dtype=int)\n",
    "\n",
    "    tx_cost = -tightness * (np.log(-window/period) **2)\n",
    "    first_beat = True\n",
    "    for i, score_i in enumerate(local_score):\n",
    "        #force range to not go past t = 0\n",
    "        z_pad = np.maximum(0, min(-window[0], len(window)))\n",
    "        scores = tx_cost.copy()\n",
    "        scores[z_pad:] = scores [z_pad:]+cumulative_score[window[z_pad:]]\n",
    "        beat_location = np.argmax(scores) #compute index of max\n",
    "        cumulative_score[i] = score_i + scores[beat_location]\n",
    "\n",
    "        #special case for intiation:\n",
    "        if first_beat == True and score_i < 0.001*local_score.max(): \n",
    "            backlink[i] = -1\n",
    "        else: \n",
    "            backlink[i] = window[beat_location]\n",
    "            first_beat = False\n",
    "        \n",
    "        #update window range iteratively\n",
    "        window += 1\n",
    "    return backlink, cumulative_score\n",
    "\n",
    "def compute_tempo(audio_file_path, hop_len=512, tightness=100.0, initial_bpm = 120):\n",
    "    #initiate some variables for the beat tracking. we compute beats, then go to the global BPM\n",
    "    #tightness - float scalar for how closely it adheres to bpm, default to 100\n",
    "    \n",
    "    #compute the onset from the provided audio file, compute starting BPM\n",
    "    wav_path = \"temp_audio.wav\"\n",
    "    mp3_to_wav(audio_file_path, wav_path)\n",
    "    signal, sampling_rate = librosa.load(wav_path, sr=None, mono=True)\n",
    "    onset_envelope = librosa.onset.onset_strength(y=signal, sr = sampling_rate, hop_length=hop_len)\n",
    "\n",
    "    #compute resolution of the fast fourrier transform\n",
    "    fft_res = sampling_rate/hop_len\n",
    "    period = np.round(60.0 *fft_res/initial_bpm)\n",
    "\n",
    "    #compute automatic gain control of the onset envelope\n",
    "    local_score = compute_localscore(onset_envelope, period)\n",
    "    #dynamic programming time\n",
    "\n",
    "    backlink, cumulative_score = dynamic_compute(local_score, period, tightness)\n",
    "    #get the pos of the last beat\n",
    "    #need to first compute the median score, and local maxes. return local maxes afterwards\n",
    "    local_max_scores = librosa.util.localmax(cumulative_score)\n",
    "    median_score = np.median(cumulative_score[np.argwhere(local_max_scores)])\n",
    "    last_beat_location = np.argwhere((cumulative_score*local_max_scores*2>median_score)).max()\n",
    "\n",
    "    beats = [last_beat_location]\n",
    "\n",
    "    while backlink[beats[-1]] >= 0: beats.append(backlink[beats[-1]])\n",
    "\n",
    "    # Put the beats in ascending order\n",
    "    # Convert into an array of frame numbers\n",
    "    beats = np.array(beats[::-1], dtype=int)\n",
    "\n",
    "    first_beat_time, last_beat_time = librosa.frames_to_time((beats[0],beats[-1]),sr=sampling_rate)\n",
    "    tempo = 60/((last_beat_time-first_beat_time)/(len(beats)-1))\n",
    "    return tempo\n",
    "\n",
    "#Testing time\n",
    "print(f\"Dynamic Programming BPM method computed: {compute_tempo(\"mp3s/505_artic.mp3\", tightness = 100.0, initial_bpm=120)}\")"
   ]
  },
  {
   "cell_type": "code",
   "execution_count": 37,
   "metadata": {},
   "outputs": [
    {
     "name": "stdout",
     "output_type": "stream",
     "text": [
      "Song Track ID: 58ge6dfP91o9oXMzq3XkIS\n",
      "Song Name: 505\n",
      "Spotify's Tempo: 140.267\n",
      "Track ID: 58ge6dfP91o9oXMzq3XkIS\n",
      "sanity check using get_song_name: 505\n"
     ]
    }
   ],
   "source": [
    "test_var = \"505\"\n",
    "test_id = get_track_id(test_var)\n",
    "print(f\"Spotify's Tempo: {get_song_tempo(test_id)}\")\n",
    "print(f\"Track ID: {test_id}\")\n",
    "print(f\"sanity check using get_song_name: {get_song_name(test_id)}\")"
   ]
  },
  {
   "cell_type": "code",
   "execution_count": 14,
   "metadata": {},
   "outputs": [
    {
     "name": "stdout",
     "output_type": "stream",
     "text": [
      "\n",
      " Input your song in one line, enter qqq to quit: \n",
      "Song Track ID: 4kjI1gwQZRKNDkw1nI475M\n",
      "Song Name: MY EYES\n",
      "Spotify's Tempo: 119.043\n",
      "Track ID: 4kjI1gwQZRKNDkw1nI475M\n",
      "sanity check using get_song_name: MY EYES\n"
     ]
    }
   ],
   "source": [
    "print(\"\\n Input your song in one line, enter qqq to quit: \")\n",
    "test_var = str(input())\n",
    "test_id = get_track_id(test_var)\n",
    "print(f\"Spotify's Tempo: {get_song_tempo(test_id)}\")\n",
    "print(f\"Track ID: {test_id}\")\n",
    "print(f\"sanity check using get_song_name: {get_song_name(test_id)}\")"
   ]
  }
 ],
 "metadata": {
  "kernelspec": {
   "display_name": "Python 3",
   "language": "python",
   "name": "python3"
  },
  "language_info": {
   "codemirror_mode": {
    "name": "ipython",
    "version": 3
   },
   "file_extension": ".py",
   "mimetype": "text/x-python",
   "name": "python",
   "nbconvert_exporter": "python",
   "pygments_lexer": "ipython3",
   "version": "3.12.7"
  }
 },
 "nbformat": 4,
 "nbformat_minor": 2
}
